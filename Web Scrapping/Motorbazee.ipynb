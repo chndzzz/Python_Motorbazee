{
 "cells": [
  {
   "cell_type": "code",
   "execution_count": null,
   "id": "5b581565",
   "metadata": {},
   "outputs": [],
   "source": [
    "# importing different libraries into console\n",
    "import time\n",
    "from selenium import webdriver\n",
    "from select import select\n",
    "from selenium.webdriver.support.ui import Select\n",
    "import pandas as pd"
   ]
  },
  {
   "cell_type": "code",
   "execution_count": null,
   "id": "61dc430b",
   "metadata": {},
   "outputs": [],
   "source": [
    "# syntax to use the chromedriver\n",
    "driver=webdriver.Chrome(r\"C:\\Users\\chndzzz\\Downloads\\chromedriver_win32\\chromedriver.exe\")"
   ]
  },
  {
   "cell_type": "code",
   "execution_count": null,
   "id": "3b1d5c57",
   "metadata": {},
   "outputs": [],
   "source": [
    "# syntax to maximize the browser window\n",
    "driver.maximize_window()\n",
    "\n",
    "# pause time of 3 seconds\n",
    "time.sleep(2)"
   ]
  },
  {
   "cell_type": "code",
   "execution_count": null,
   "id": "b733692f",
   "metadata": {},
   "outputs": [],
   "source": [
    "# syntax to go to the website\n",
    "driver.get(\"https://www.motorbazee.com\")\n",
    "time.sleep(2)"
   ]
  },
  {
   "cell_type": "code",
   "execution_count": null,
   "id": "7878fc5f",
   "metadata": {},
   "outputs": [],
   "source": [
    "# Creating empty lists to store the values\n",
    "Brand_Name=[]\n",
    "Model_Name=[]"
   ]
  },
  {
   "cell_type": "code",
   "execution_count": null,
   "id": "ab7e647d",
   "metadata": {},
   "outputs": [],
   "source": [
    "# Using select function, we define following function for our code\n",
    "def select_values(element,index):\n",
    "    select=Select(element)\n",
    "    select.select_by_index(index)"
   ]
  },
  {
   "cell_type": "code",
   "execution_count": null,
   "id": "383797d0",
   "metadata": {},
   "outputs": [],
   "source": [
    "# Creating webelement for Make options on the website\n",
    "brand_name=driver.find_element_by_id(\"SerchMakeBlogTruck\")\n",
    "\n",
    "# Creating webelement for Model options on the website\n",
    "model_name=driver.find_element_by_id(\"SerchModelBlogTruck\")"
   ]
  },
  {
   "cell_type": "code",
   "execution_count": null,
   "id": "3b8177ab",
   "metadata": {},
   "outputs": [],
   "source": [
    "# Creating variable for selecting value from brand_name\n",
    "list1=Select(brand_name)\n",
    "brand_list=list1.options"
   ]
  },
  {
   "cell_type": "code",
   "execution_count": null,
   "id": "f68cde45",
   "metadata": {},
   "outputs": [],
   "source": [
    "# syntax for looping the values in Make option and adding into the Brand_Name\n",
    "for brand in brand_list:\n",
    "    Brand_Name.append(brand.text)"
   ]
  },
  {
   "cell_type": "code",
   "execution_count": null,
   "id": "7f630918",
   "metadata": {},
   "outputs": [],
   "source": [
    "# Printing the series of Brand_Name to get the list of brands with indexes\n",
    "print(pd.Series(Brand_Name))\n",
    "num1=int(input())\n",
    "print(\"Please enter Brand Number: \",num1)"
   ]
  },
  {
   "cell_type": "code",
   "execution_count": null,
   "id": "a2e27134",
   "metadata": {},
   "outputs": [],
   "source": [
    "select_values(brand_name,num1)\n",
    "time.sleep(2)"
   ]
  },
  {
   "cell_type": "code",
   "execution_count": null,
   "id": "56852336",
   "metadata": {},
   "outputs": [],
   "source": [
    "# Creating variable for selecting value from model_name\n",
    "list2=Select(model_name)\n",
    "model_list=list2.options"
   ]
  },
  {
   "cell_type": "code",
   "execution_count": null,
   "id": "e76c6557",
   "metadata": {},
   "outputs": [],
   "source": [
    "# syntax for looping the values in Make option and adding into the Model_Name\n",
    "for model in model_list:\n",
    "    Model_Name.append(model.text)"
   ]
  },
  {
   "cell_type": "code",
   "execution_count": null,
   "id": "bbf47966",
   "metadata": {},
   "outputs": [],
   "source": [
    "# Printing the series of Model_Name to get the list of models with indexes\n",
    "print(pd.Series(Model_Name))\n",
    "num2=int(input())\n",
    "print(\"Please enter Model Number: \",num2)"
   ]
  },
  {
   "cell_type": "code",
   "execution_count": null,
   "id": "4009656c",
   "metadata": {},
   "outputs": [],
   "source": [
    "select_values(model_name,num2)\n",
    "time.sleep(2)"
   ]
  },
  {
   "cell_type": "code",
   "execution_count": null,
   "id": "49102364",
   "metadata": {},
   "outputs": [],
   "source": [
    "# syntax to clcik on GO option on the website\n",
    "go=driver.find_element_by_xpath(\"//button[@id='UsedTruckSubmit']\").click()"
   ]
  },
  {
   "cell_type": "code",
   "execution_count": null,
   "id": "48cbda93",
   "metadata": {},
   "outputs": [],
   "source": [
    "#syntax to get the list of links from all pages\n",
    "listoflinks=[]\n",
    "condition=True\n",
    "\n",
    "while condition:\n",
    "    result=driver.find_elements_by_class_name('card')\n",
    "    for link in result:\n",
    "        ar1=link.find_elements_by_tag_name('a')[0]\n",
    "        listoflinks.append(ar1.get_property('href'))\n",
    "    try:\n",
    "        driver.find_elements_by_partial_link_text(\"Next\")[0].click()\n",
    "    except:\n",
    "        condition=False"
   ]
  },
  {
   "cell_type": "code",
   "execution_count": null,
   "id": "9094265b",
   "metadata": {},
   "outputs": [],
   "source": [
    "# syntax to get number of elements of the list\n",
    "len(listoflinks)"
   ]
  },
  {
   "cell_type": "code",
   "execution_count": null,
   "id": "05767477",
   "metadata": {},
   "outputs": [],
   "source": [
    "from tqdm import tqdm\n",
    "All_Details=[]\n",
    "\n",
    "for i in tqdm(listoflinks):\n",
    "    driver.get(i)\n",
    "    Name_of_Vehicle = driver.find_element_by_xpath(\"/html/body/div[4]/div/div/div[1]/h3\").text             # getting the names of vehicle\n",
    "    Model_Year = driver.find_element_by_xpath(\"/html/body/div[4]/div/div/div[1]/div[2]/div[1]/span\").text  # getting the model year of vehicle\n",
    "    Fuel = driver.find_element_by_xpath(\"/html/body/div[4]/div/div/div[1]/div[2]/div[2]/span\").text        # getting the type of fuel used in the vehicle\n",
    "    Location = driver.find_element_by_xpath(\"/html/body/div[4]/div/div/div[1]/div[2]/div[4]/span\").text    # getting the name of city where it is sold\n",
    "    # Creating the dictionary for the above options\n",
    "    details={'Name_of_Vehicle':Name_of_Vehicle,\n",
    "           'Model_Year':Model_Year,\n",
    "           'Fuel':Fuel,\n",
    "           'Location':Location}\n",
    "    All_Details.append(details)                                                     # adding the data into All_Details list\n",
    "    "
   ]
  },
  {
   "cell_type": "code",
   "execution_count": null,
   "id": "df617c77",
   "metadata": {},
   "outputs": [],
   "source": [
    "# Creating the Dataframe for the details created\n",
    "DF_Details=pd.DataFrame(All_Details)\n",
    "DF_Details"
   ]
  },
  {
   "cell_type": "code",
   "execution_count": null,
   "id": "913d59c1",
   "metadata": {},
   "outputs": [],
   "source": [
    "DF_Details.to_csv('Details of Vehicles.csv')"
   ]
  }
 ],
 "metadata": {
  "kernelspec": {
   "display_name": "Python 3 (ipykernel)",
   "language": "python",
   "name": "python3"
  },
  "language_info": {
   "codemirror_mode": {
    "name": "ipython",
    "version": 3
   },
   "file_extension": ".py",
   "mimetype": "text/x-python",
   "name": "python",
   "nbconvert_exporter": "python",
   "pygments_lexer": "ipython3",
   "version": "3.9.12"
  },
  "vscode": {
   "interpreter": {
    "hash": "a48085b82bac2437dcd7b08e69f9bf994c50cabb0d119cc4e0d02bdde3dc7876"
   }
  }
 },
 "nbformat": 4,
 "nbformat_minor": 5
}
